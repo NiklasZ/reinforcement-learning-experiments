{
 "cells": [
  {
   "cell_type": "markdown",
   "metadata": {},
   "source": [
    "# Discretization\n",
    "\n",
    "---\n",
    "\n",
    "In this notebook, you will deal with continuous state and action spaces by discretizing them. This will enable you to apply reinforcement learning algorithms that are only designed to work with discrete spaces.\n",
    "\n",
    "### 1. Import the Necessary Packages"
   ]
  },
  {
   "cell_type": "code",
   "execution_count": 1,
   "metadata": {
    "pycharm": {
     "is_executing": false
    }
   },
   "outputs": [],
   "source": [
    "import sys\n",
    "import gym\n",
    "import numpy as np\n",
    "\n",
    "import pandas as pd\n",
    "import matplotlib.pyplot as plt\n",
    "\n",
    "# Set plotting options\n",
    "%matplotlib inline\n",
    "plt.style.use('ggplot')\n",
    "np.set_printoptions(precision=3, linewidth=120)"
   ]
  },
  {
   "cell_type": "markdown",
   "metadata": {},
   "source": [
    "### 2. Specify the Environment, and Explore the State and Action Spaces\n",
    "\n",
    "We'll use [OpenAI Gym](https://gym.openai.com/) environments to test and develop our algorithms. These simulate a variety of classic as well as contemporary reinforcement learning tasks.  Let's use an environment that has a continuous state space, but a discrete action space."
   ]
  },
  {
   "cell_type": "code",
   "execution_count": 2,
   "metadata": {
    "pycharm": {
     "is_executing": false
    }
   },
   "outputs": [],
   "source": [
    "# Create an environment and set random seed\n",
    "env = gym.make('MountainCar-v0')\n",
    "env.seed(505);"
   ]
  },
  {
   "cell_type": "markdown",
   "metadata": {},
   "source": [
    "Run the next code cell to watch a random agent."
   ]
  },
  {
   "cell_type": "code",
   "execution_count": 3,
   "metadata": {
    "pycharm": {
     "is_executing": false
    }
   },
   "outputs": [
    {
     "name": "stdout",
     "text": [
      "Final score: -200.0\n"
     ],
     "output_type": "stream"
    }
   ],
   "source": [
    "state = env.reset()\n",
    "score = 0\n",
    "for t in range(200):\n",
    "    action = env.action_space.sample()\n",
    "    env.render()\n",
    "    state, reward, done, _ = env.step(action)\n",
    "    score += reward\n",
    "    if done:\n",
    "        break \n",
    "print('Final score:', score)\n",
    "env.close()"
   ]
  },
  {
   "cell_type": "markdown",
   "metadata": {},
   "source": [
    "In this notebook, you will train an agent to perform much better!  For now, we can explore the state and action spaces, as well as sample them."
   ]
  },
  {
   "cell_type": "code",
   "execution_count": 4,
   "metadata": {
    "pycharm": {
     "is_executing": false
    }
   },
   "outputs": [
    {
     "name": "stdout",
     "text": [
      "State space: Box(2,)\n- low: [-1.2  -0.07]\n- high: [0.6  0.07]\n"
     ],
     "output_type": "stream"
    }
   ],
   "source": [
    "# Explore state (observation) space\n",
    "print(\"State space:\", env.observation_space)\n",
    "print(\"- low:\", env.observation_space.low)\n",
    "print(\"- high:\", env.observation_space.high)"
   ]
  },
  {
   "cell_type": "code",
   "execution_count": 5,
   "metadata": {
    "pycharm": {
     "is_executing": false
    }
   },
   "outputs": [
    {
     "name": "stdout",
     "text": [
      "State space samples:\n[[-0.661  0.051]\n [-1.145 -0.035]\n [ 0.595 -0.025]\n [ 0.272  0.026]\n [-0.614 -0.053]\n [-0.64   0.03 ]\n [ 0.047 -0.032]\n [-0.415 -0.032]\n [ 0.527  0.058]\n [-0.363 -0.032]]\n"
     ],
     "output_type": "stream"
    }
   ],
   "source": [
    "# Generate some samples from the state space \n",
    "print(\"State space samples:\")\n",
    "print(np.array([env.observation_space.sample() for i in range(10)]))"
   ]
  },
  {
   "cell_type": "code",
   "execution_count": 6,
   "metadata": {
    "pycharm": {
     "is_executing": false
    }
   },
   "outputs": [
    {
     "name": "stdout",
     "text": [
      "Action space: Discrete(3)\nAction space samples:\n[0 2 0 2 0 0 1 2 2 1]\n"
     ],
     "output_type": "stream"
    }
   ],
   "source": [
    "# Explore the action space\n",
    "print(\"Action space:\", env.action_space)\n",
    "\n",
    "# Generate some samples from the action space\n",
    "print(\"Action space samples:\")\n",
    "print(np.array([env.action_space.sample() for i in range(10)]))"
   ]
  },
  {
   "cell_type": "markdown",
   "metadata": {},
   "source": [
    "### 3. Discretize the State Space with a Uniform Grid\n",
    "\n",
    "We will discretize the space using a uniformly-spaced grid. Implement the following function to create such a grid, given the lower bounds (`low`), upper bounds (`high`), and number of desired `bins` along each dimension. It should return the split points for each dimension, which will be 1 less than the number of bins.\n",
    "\n",
    "For instance, if `low = [-1.0, -5.0]`, `high = [1.0, 5.0]`, and `bins = (10, 10)`, then your function should return the following list of 2 NumPy arrays:\n",
    "\n",
    "```\n",
    "[array([-0.8, -0.6, -0.4, -0.2,  0.0,  0.2,  0.4,  0.6,  0.8]),\n",
    " array([-4.0, -3.0, -2.0, -1.0,  0.0,  1.0,  2.0,  3.0,  4.0])]\n",
    "```\n",
    "\n",
    "Note that the ends of `low` and `high` are **not** included in these split points. It is assumed that any value below the lowest split point maps to index `0` and any value above the highest split point maps to index `n-1`, where `n` is the number of bins along that dimension."
   ]
  },
  {
   "cell_type": "code",
   "execution_count": 7,
   "metadata": {
    "pycharm": {
     "is_executing": false
    }
   },
   "outputs": [
    {
     "data": {
      "text/plain": "[array([-8.00e-01, -6.00e-01, -4.00e-01, -2.00e-01, -2.22e-16,  2.00e-01,  4.00e-01,  6.00e-01,  8.00e-01]),\n array([-4., -3., -2., -1.,  0.,  1.,  2.,  3.,  4.])]"
     },
     "metadata": {},
     "output_type": "execute_result",
     "execution_count": 7
    }
   ],
   "source": [
    "def create_uniform_grid(low, high, bins=(10, 10)):\n",
    "    \"\"\"Define a uniformly-spaced grid that can be used to discretize a space.\n",
    "    \n",
    "    Parameters\n",
    "    ----------\n",
    "    low : array_like\n",
    "        Lower bounds for each dimension of the continuous space.\n",
    "    high : array_like\n",
    "        Upper bounds for each dimension of the continuous space.\n",
    "    bins : tuple\n",
    "        Number of bins along each corresponding dimension.\n",
    "    \n",
    "    Returns\n",
    "    -------\n",
    "    grid : list of array_like\n",
    "        A list of arrays containing split points for each dimension.\n",
    "    \"\"\"\n",
    "    result = []\n",
    "    for low_position, high_position, bin in zip(low, high, bins):\n",
    "        step_size = (high_position - low_position)/bin\n",
    "        result.append(np.arange(low_position+step_size, high_position, step_size))\n",
    "    return result\n",
    "\n",
    "\n",
    "low = [-1.0, -5.0]\n",
    "high = [1.0, 5.0]\n",
    "create_uniform_grid(low, high)  # [test]"
   ]
  },
  {
   "cell_type": "markdown",
   "metadata": {},
   "source": [
    "Now write a function that can convert samples from a continuous space into its equivalent discretized representation, given a grid like the one you created above. You can use the [`numpy.digitize()`](https://docs.scipy.org/doc/numpy-1.9.3/reference/generated/numpy.digitize.html) function for this purpose.\n",
    "\n",
    "Assume the grid is a list of NumPy arrays containing the following split points:\n",
    "```\n",
    "[array([-0.8, -0.6, -0.4, -0.2,  0.0,  0.2,  0.4,  0.6,  0.8]),\n",
    " array([-4.0, -3.0, -2.0, -1.0,  0.0,  1.0,  2.0,  3.0,  4.0])]\n",
    "```\n",
    "\n",
    "Here are some potential samples and their corresponding discretized representations:\n",
    "```\n",
    "[-1.0 , -5.0] => [0, 0]\n",
    "[-0.81, -4.1] => [0, 0]\n",
    "[-0.8 , -4.0] => [1, 1]\n",
    "[-0.5 ,  0.0] => [2, 5]\n",
    "[ 0.2 , -1.9] => [6, 3]\n",
    "[ 0.8 ,  4.0] => [9, 9]\n",
    "[ 0.81,  4.1] => [9, 9]\n",
    "[ 1.0 ,  5.0] => [9, 9]\n",
    "```\n",
    "\n",
    "**Note**: There may be one-off differences in binning due to floating-point inaccuracies when samples are close to grid boundaries, but that is alright."
   ]
  },
  {
   "cell_type": "code",
   "execution_count": 8,
   "metadata": {
    "pycharm": {
     "is_executing": false
    }
   },
   "outputs": [
    {
     "name": "stdout",
     "text": [
      "\nSamples:\narray([[-1.  , -5.  ],\n       [-0.81, -4.1 ],\n       [-0.8 , -4.  ],\n       [-0.5 ,  0.  ],\n       [ 0.2 , -1.9 ],\n       [ 0.8 ,  4.  ],\n       [ 0.81,  4.1 ],\n       [ 1.  ,  5.  ]])\n\nDiscretized samples:\narray([[0, 0],\n       [0, 0],\n       [1, 1],\n       [2, 5],\n       [6, 3],\n       [9, 9],\n       [9, 9],\n       [9, 9]])\n"
     ],
     "output_type": "stream"
    }
   ],
   "source": [
    "def discretize(sample, grid):\n",
    "    \"\"\"Discretize a sample as per given grid.\n",
    "    \n",
    "    Parameters\n",
    "    ----------\n",
    "    sample : array_like\n",
    "        A single sample from the (original) continuous space.\n",
    "    grid : list of array_like\n",
    "        A list of arrays containing split points for each dimension.\n",
    "    \n",
    "    Returns\n",
    "    -------\n",
    "    discretized_sample : array_like\n",
    "        A sequence of integers with the same number of dimensions as sample.\n",
    "    \"\"\"\n",
    "    result = []\n",
    "    for value, dimension in zip(sample, grid):\n",
    "        result.append(np.digitize(value, dimension))\n",
    "    return result\n",
    "\n",
    "\n",
    "# Test with a simple grid and some samples\n",
    "grid = create_uniform_grid([-1.0, -5.0], [1.0, 5.0])\n",
    "samples = np.array(\n",
    "    [[-1.0 , -5.0],\n",
    "     [-0.81, -4.1],\n",
    "     [-0.8 , -4.0],\n",
    "     [-0.5 ,  0.0],\n",
    "     [ 0.2 , -1.9],\n",
    "     [ 0.8 ,  4.0],\n",
    "     [ 0.81,  4.1],\n",
    "     [ 1.0 ,  5.0]])\n",
    "discretized_samples = np.array([discretize(sample, grid) for sample in samples])\n",
    "print(\"\\nSamples:\", repr(samples), sep=\"\\n\")\n",
    "print(\"\\nDiscretized samples:\", repr(discretized_samples), sep=\"\\n\")"
   ]
  },
  {
   "cell_type": "markdown",
   "metadata": {},
   "source": [
    "### 4. Visualization\n",
    "\n",
    "It might be helpful to visualize the original and discretized samples to get a sense of how much error you are introducing."
   ]
  },
  {
   "cell_type": "code",
   "execution_count": 9,
   "metadata": {
    "pycharm": {
     "is_executing": false
    }
   },
   "outputs": [
    {
     "name": "stderr",
     "text": [
      "/home/niklas/.local/lib/python3.6/site-packages/IPython/core/interactiveshell.py:3326: FutureWarning: arrays to stack must be passed as a \"sequence\" type such as list or tuple. Support for non-sequence iterables such as generators is deprecated as of NumPy 1.16 and will raise an error in the future.\n  exec(code_obj, self.user_global_ns, self.user_ns)\n"
     ],
     "output_type": "stream"
    },
    {
     "data": {
      "text/plain": "<Figure size 720x720 with 1 Axes>",
      "image/png": "[encoded data removed]"
     },
     "metadata": {
      "needs_background": "light"
     },
     "output_type": "display_data"
    }
   ],
   "source": [
    "import matplotlib.collections as mc\n",
    "\n",
    "def visualize_samples(samples, discretized_samples, grid, low=None, high=None):\n",
    "    \"\"\"Visualize original and discretized samples on a given 2-dimensional grid.\"\"\"\n",
    "\n",
    "    fig, ax = plt.subplots(figsize=(10, 10))\n",
    "    \n",
    "    # Show grid\n",
    "    ax.xaxis.set_major_locator(plt.FixedLocator(grid[0]))\n",
    "    ax.yaxis.set_major_locator(plt.FixedLocator(grid[1]))\n",
    "    ax.grid(True)\n",
    "    \n",
    "    # If bounds (low, high) are specified, use them to set axis limits\n",
    "    if low is not None and high is not None:\n",
    "        ax.set_xlim(low[0], high[0])\n",
    "        ax.set_ylim(low[1], high[1])\n",
    "    else:\n",
    "        # Otherwise use first, last grid locations as low, high (for further mapping discretized samples)\n",
    "        low = [splits[0] for splits in grid]\n",
    "        high = [splits[-1] for splits in grid]\n",
    "\n",
    "    # Map each discretized sample (which is really an index) to the center of corresponding grid cell\n",
    "    grid_extended = np.hstack((np.array([low]).T, grid, np.array([high]).T))  # add low and high ends\n",
    "    grid_centers = (grid_extended[:, 1:] + grid_extended[:, :-1]) / 2  # compute center of each grid cell\n",
    "    locs = np.stack(grid_centers[i, discretized_samples[:, i]] for i in range(len(grid))).T  # map discretized samples\n",
    "\n",
    "    ax.plot(samples[:, 0], samples[:, 1], 'o')  # plot original samples\n",
    "    ax.plot(locs[:, 0], locs[:, 1], 's')  # plot discretized samples in mapped locations\n",
    "    ax.add_collection(mc.LineCollection(list(zip(samples, locs)), colors='orange'))  # add a line connecting each original-discretized sample\n",
    "    ax.legend(['original', 'discretized'])\n",
    "\n",
    "    \n",
    "visualize_samples(samples, discretized_samples, grid, low, high)"
   ]
  },
  {
   "cell_type": "markdown",
   "metadata": {},
   "source": [
    "Now that we have a way to discretize a state space, let's apply it to our reinforcement learning environment."
   ]
  },
  {
   "cell_type": "code",
   "execution_count": 10,
   "metadata": {
    "pycharm": {
     "is_executing": false
    }
   },
   "outputs": [
    {
     "data": {
      "text/plain": "[array([-1.02, -0.84, -0.66, -0.48, -0.3 , -0.12,  0.06,  0.24,  0.42]),\n array([-5.600e-02, -4.200e-02, -2.800e-02, -1.400e-02,  6.939e-18,  1.400e-02,  2.800e-02,  4.200e-02,  5.600e-02])]"
     },
     "metadata": {},
     "output_type": "execute_result",
     "execution_count": 10
    }
   ],
   "source": [
    "# Create a grid to discretize the state space\n",
    "state_grid = create_uniform_grid(env.observation_space.low, env.observation_space.high, bins=(10, 10))\n",
    "state_grid"
   ]
  },
  {
   "cell_type": "code",
   "execution_count": 11,
   "metadata": {
    "pycharm": {
     "is_executing": false
    }
   },
   "outputs": [
    {
     "data": {
      "text/plain": "<Figure size 720x720 with 1 Axes>",
      "image/png": "[encoded data removed]"
     },
     "metadata": {
      "needs_background": "light"
     },
     "output_type": "display_data"
    }
   ],
   "source": [
    "# Obtain some samples from the space, discretize them, and then visualize them\n",
    "state_samples = np.array([env.observation_space.sample() for i in range(10)])\n",
    "discretized_state_samples = np.array([discretize(sample, state_grid) for sample in state_samples])\n",
    "visualize_samples(state_samples, discretized_state_samples, state_grid,\n",
    "                  env.observation_space.low, env.observation_space.high)\n",
    "plt.xlabel('position'); plt.ylabel('velocity');  # axis labels for MountainCar-v0 state space"
   ]
  },
  {
   "cell_type": "markdown",
   "metadata": {},
   "source": [
    "You might notice that if you have enough bins, the discretization doesn't introduce too much error into your representation.  So we may be able to now apply a reinforcement learning algorithm (like Q-Learning) that operates on discrete spaces.  Give it a shot to see how well it works!\n",
    "\n",
    "### 5. Q-Learning\n",
    "\n",
    "Provided below is a simple Q-Learning agent. Implement the `preprocess_state()` method to convert each continuous state sample to its corresponding discretized representation."
   ]
  },
  {
   "cell_type": "code",
   "execution_count": 12,
   "metadata": {
    "pycharm": {
     "is_executing": false
    }
   },
   "outputs": [
    {
     "name": "stdout",
     "text": [
      "Environment: <TimeLimit<MountainCarEnv<MountainCar-v0>>>\nState space size: (10, 10)\nAction space size: 3\nQ table size: (10, 10, 3)\n"
     ],
     "output_type": "stream"
    }
   ],
   "source": [
    "class QLearningAgent:\n",
    "    \"\"\"Q-Learning agent that can act on a continuous state space by discretizing it.\"\"\"\n",
    "\n",
    "    def __init__(self, env, state_grid, alpha=0.02, gamma=0.99,\n",
    "                 epsilon=1.0, epsilon_decay_rate=0.9995, min_epsilon=.01, seed=505):\n",
    "        \"\"\"Initialize variables, create grid for discretization.\"\"\"\n",
    "        # Environment info\n",
    "        self.env = env\n",
    "        self.state_grid = state_grid\n",
    "        self.state_size = tuple(len(splits) + 1 for splits in self.state_grid)  # n-dimensional state space\n",
    "        self.action_size = self.env.action_space.n  # 1-dimensional discrete action space\n",
    "        self.seed = np.random.seed(seed)\n",
    "        print(\"Environment:\", self.env)\n",
    "        print(\"State space size:\", self.state_size)\n",
    "        print(\"Action space size:\", self.action_size)\n",
    "        \n",
    "        # Learning parameters\n",
    "        self.alpha = alpha  # learning rate\n",
    "        self.gamma = gamma  # discount factor\n",
    "        self.epsilon = self.initial_epsilon = epsilon  # initial exploration rate\n",
    "        self.epsilon_decay_rate = epsilon_decay_rate # how quickly should we decrease epsilon\n",
    "        self.min_epsilon = min_epsilon\n",
    "        \n",
    "        # Create Q-table\n",
    "        self.q_table = np.zeros(shape=(self.state_size + (self.action_size,)))\n",
    "        print(\"Q table size:\", self.q_table.shape)\n",
    "\n",
    "    def preprocess_state(self, state):\n",
    "        \"\"\"Map a continuous state to its discretized representation.\"\"\"\n",
    "        return tuple(discretize(state, self.state_grid))\n",
    "\n",
    "    def reset_episode(self, state):\n",
    "        \"\"\"Reset variables for a new episode.\"\"\"\n",
    "        # Gradually decrease exploration rate\n",
    "        self.epsilon *= self.epsilon_decay_rate\n",
    "        self.epsilon = max(self.epsilon, self.min_epsilon)\n",
    "\n",
    "        # Decide initial action\n",
    "        self.last_state = self.preprocess_state(state)\n",
    "        self.last_action = np.argmax(self.q_table[self.last_state])\n",
    "        return self.last_action\n",
    "    \n",
    "    def reset_exploration(self, epsilon=None):\n",
    "        \"\"\"Reset exploration rate used when training.\"\"\"\n",
    "        self.epsilon = epsilon if epsilon is not None else self.initial_epsilon\n",
    "\n",
    "    def act(self, state, reward=None, done=None, mode='train'):\n",
    "        \"\"\"Pick next action and update internal Q table (when mode != 'test').\"\"\"\n",
    "        state = self.preprocess_state(state)\n",
    "        if mode == 'test':\n",
    "            # Test mode: Simply produce an action\n",
    "            action = np.argmax(self.q_table[state])\n",
    "        else:\n",
    "            # Train mode (default): Update Q table, pick next action\n",
    "            # Note: We update the Q table entry for the *last* (state, action) pair with current state, reward\n",
    "            self.q_table[self.last_state + (self.last_action,)] += self.alpha * \\\n",
    "                (reward + self.gamma * max(self.q_table[state]) - self.q_table[self.last_state + (self.last_action,)])\n",
    "\n",
    "            # Exploration vs. exploitation\n",
    "            do_exploration = np.random.uniform(0, 1) < self.epsilon\n",
    "            if do_exploration:\n",
    "                # Pick a random action\n",
    "                action = np.random.randint(0, self.action_size)\n",
    "            else:\n",
    "                # Pick the best action from Q table\n",
    "                action = np.argmax(self.q_table[state])\n",
    "\n",
    "        # Roll over current state, action for next step\n",
    "        self.last_state = state\n",
    "        self.last_action = action\n",
    "        return action\n",
    "\n",
    "    \n",
    "q_agent = QLearningAgent(env, state_grid)"
   ]
  },
  {
   "cell_type": "markdown",
   "metadata": {},
   "source": [
    "Let's also define a convenience function to run an agent on a given environment.  When calling this function, you can pass in `mode='test'` to tell the agent not to learn."
   ]
  },
  {
   "cell_type": "code",
   "execution_count": 13,
   "metadata": {
    "pycharm": {
     "is_executing": false
    }
   },
   "outputs": [
    {
     "name": "stdout",
     "text": [
      "\rEpisode 100/20000 | Max Average Score: -inf",
      "\rEpisode 200/20000 | Max Average Score: -200.0",
      "\rEpisode 300/20000 | Max Average Score: -200.0",
      "\rEpisode 400/20000 | Max Average Score: -200.0",
      "\rEpisode 500/20000 | Max Average Score: -200.0",
      "\rEpisode 600/20000 | Max Average Score: -200.0",
      "\rEpisode 700/20000 | Max Average Score: -200.0",
      "\rEpisode 800/20000 | Max Average Score: -200.0",
      "\rEpisode 900/20000 | Max Average Score: -200.0",
      "\rEpisode 1000/20000 | Max Average Score: -200.0",
      "\rEpisode 1100/20000 | Max Average Score: -200.0",
      "\rEpisode 1200/20000 | Max Average Score: -200.0",
      "\rEpisode 1300/20000 | Max Average Score: -200.0",
      "\rEpisode 1400/20000 | Max Average Score: -200.0",
      "\rEpisode 1500/20000 | Max Average Score: -200.0",
      "\rEpisode 1600/20000 | Max Average Score: -200.0",
      "\rEpisode 1700/20000 | Max Average Score: -199.64",
      "\rEpisode 1800/20000 | Max Average Score: -199.32",
      "\rEpisode 1900/20000 | Max Average Score: -199.32",
      "\rEpisode 2000/20000 | Max Average Score: -199.3",
      "\rEpisode 2100/20000 | Max Average Score: -199.3",
      "\rEpisode 2200/20000 | Max Average Score: -199.3",
      "\rEpisode 2300/20000 | Max Average Score: -195.59",
      "\rEpisode 2400/20000 | Max Average Score: -195.59",
      "\rEpisode 2500/20000 | Max Average Score: -195.39",
      "\rEpisode 2600/20000 | Max Average Score: -192.56",
      "\rEpisode 2700/20000 | Max Average Score: -192.56",
      "\rEpisode 2800/20000 | Max Average Score: -192.56",
      "\rEpisode 2900/20000 | Max Average Score: -192.56",
      "\rEpisode 3000/20000 | Max Average Score: -188.29",
      "\rEpisode 3100/20000 | Max Average Score: -183.66",
      "\rEpisode 3200/20000 | Max Average Score: -183.66",
      "\rEpisode 3300/20000 | Max Average Score: -183.66",
      "\rEpisode 3400/20000 | Max Average Score: -183.66",
      "\rEpisode 3500/20000 | Max Average Score: -180.86",
      "\rEpisode 3600/20000 | Max Average Score: -175.31",
      "\rEpisode 3700/20000 | Max Average Score: -171.92",
      "\rEpisode 3800/20000 | Max Average Score: -171.92",
      "\rEpisode 3900/20000 | Max Average Score: -171.92",
      "\rEpisode 4000/20000 | Max Average Score: -167.82",
      "\rEpisode 4100/20000 | Max Average Score: -167.82",
      "\rEpisode 4200/20000 | Max Average Score: -166.43",
      "\rEpisode 4300/20000 | Max Average Score: -166.43",
      "\rEpisode 4400/20000 | Max Average Score: -166.43",
      "\rEpisode 4500/20000 | Max Average Score: -165.05",
      "\rEpisode 4600/20000 | Max Average Score: -158.0",
      "\rEpisode 4700/20000 | Max Average Score: -158.0",
      "\rEpisode 4800/20000 | Max Average Score: -158.0",
      "\rEpisode 4900/20000 | Max Average Score: -158.0",
      "\rEpisode 5000/20000 | Max Average Score: -158.0",
      "\rEpisode 5100/20000 | Max Average Score: -158.0",
      "\rEpisode 5200/20000 | Max Average Score: -156.45",
      "\rEpisode 5300/20000 | Max Average Score: -155.17",
      "\rEpisode 5400/20000 | Max Average Score: -155.17",
      "\rEpisode 5500/20000 | Max Average Score: -154.69",
      "\rEpisode 5600/20000 | Max Average Score: -154.69",
      "\rEpisode 5700/20000 | Max Average Score: -154.69",
      "\rEpisode 5800/20000 | Max Average Score: -154.69",
      "\rEpisode 5900/20000 | Max Average Score: -152.79",
      "\rEpisode 6000/20000 | Max Average Score: -152.79",
      "\rEpisode 6100/20000 | Max Average Score: -152.79",
      "\rEpisode 6200/20000 | Max Average Score: -152.79",
      "\rEpisode 6300/20000 | Max Average Score: -150.94",
      "\rEpisode 6400/20000 | Max Average Score: -150.94",
      "\rEpisode 6500/20000 | Max Average Score: -150.94",
      "\rEpisode 6600/20000 | Max Average Score: -150.94",
      "\rEpisode 6700/20000 | Max Average Score: -150.94",
      "\rEpisode 6800/20000 | Max Average Score: -150.94",
      "\rEpisode 6900/20000 | Max Average Score: -150.94",
      "\rEpisode 7000/20000 | Max Average Score: -141.92",
      "\rEpisode 7100/20000 | Max Average Score: -141.92",
      "\rEpisode 7200/20000 | Max Average Score: -141.92",
      "\rEpisode 7300/20000 | Max Average Score: -141.92",
      "\rEpisode 7400/20000 | Max Average Score: -141.92",
      "\rEpisode 7500/20000 | Max Average Score: -141.92",
      "\rEpisode 7600/20000 | Max Average Score: -141.92",
      "\rEpisode 7700/20000 | Max Average Score: -141.92",
      "\rEpisode 7800/20000 | Max Average Score: -141.92",
      "\rEpisode 7900/20000 | Max Average Score: -141.1",
      "\rEpisode 8000/20000 | Max Average Score: -141.1",
      "\rEpisode 8100/20000 | Max Average Score: -141.1",
      "\rEpisode 8200/20000 | Max Average Score: -141.1",
      "\rEpisode 8300/20000 | Max Average Score: -141.1",
      "\rEpisode 8400/20000 | Max Average Score: -141.1",
      "\rEpisode 8500/20000 | Max Average Score: -141.1",
      "\rEpisode 8600/20000 | Max Average Score: -141.1",
      "\rEpisode 8700/20000 | Max Average Score: -141.1",
      "\rEpisode 8800/20000 | Max Average Score: -141.1",
      "\rEpisode 8900/20000 | Max Average Score: -141.1",
      "\rEpisode 9000/20000 | Max Average Score: -141.1",
      "\rEpisode 9100/20000 | Max Average Score: -141.1",
      "\rEpisode 9200/20000 | Max Average Score: -141.1",
      "\rEpisode 9300/20000 | Max Average Score: -140.31",
      "\rEpisode 9400/20000 | Max Average Score: -137.87",
      "\rEpisode 9500/20000 | Max Average Score: -137.87",
      "\rEpisode 9600/20000 | Max Average Score: -137.87",
      "\rEpisode 9700/20000 | Max Average Score: -132.96",
      "\rEpisode 9800/20000 | Max Average Score: -132.96",
      "\rEpisode 9900/20000 | Max Average Score: -132.96",
      "\rEpisode 10000/20000 | Max Average Score: -132.96",
      "\rEpisode 10100/20000 | Max Average Score: -127.14",
      "\rEpisode 10200/20000 | Max Average Score: -121.62",
      "\rEpisode 10300/20000 | Max Average Score: -121.62",
      "\rEpisode 10400/20000 | Max Average Score: -121.62",
      "\rEpisode 10500/20000 | Max Average Score: -121.62",
      "\rEpisode 10600/20000 | Max Average Score: -121.62",
      "\rEpisode 10700/20000 | Max Average Score: -121.62",
      "\rEpisode 10800/20000 | Max Average Score: -121.62",
      "\rEpisode 10900/20000 | Max Average Score: -121.62",
      "\rEpisode 11000/20000 | Max Average Score: -121.62",
      "\rEpisode 11100/20000 | Max Average Score: -121.62",
      "\rEpisode 11200/20000 | Max Average Score: -121.62",
      "\rEpisode 11300/20000 | Max Average Score: -121.62",
      "\rEpisode 11400/20000 | Max Average Score: -121.62",
      "\rEpisode 11500/20000 | Max Average Score: -121.62",
      "\rEpisode 11600/20000 | Max Average Score: -121.62",
      "\rEpisode 11700/20000 | Max Average Score: -121.62",
      "\rEpisode 11800/20000 | Max Average Score: -121.62",
      "\rEpisode 11900/20000 | Max Average Score: -121.62",
      "\rEpisode 12000/20000 | Max Average Score: -121.62",
      "\rEpisode 12100/20000 | Max Average Score: -121.62",
      "\rEpisode 12200/20000 | Max Average Score: -121.62",
      "\rEpisode 12300/20000 | Max Average Score: -121.62",
      "\rEpisode 12400/20000 | Max Average Score: -121.62",
      "\rEpisode 12500/20000 | Max Average Score: -121.62",
      "\rEpisode 12600/20000 | Max Average Score: -121.62",
      "\rEpisode 12700/20000 | Max Average Score: -121.62",
      "\rEpisode 12800/20000 | Max Average Score: -121.62",
      "\rEpisode 12900/20000 | Max Average Score: -121.62",
      "\rEpisode 13000/20000 | Max Average Score: -121.62",
      "\rEpisode 13100/20000 | Max Average Score: -121.62",
      "\rEpisode 13200/20000 | Max Average Score: -121.62",
      "\rEpisode 13300/20000 | Max Average Score: -121.62",
      "\rEpisode 13400/20000 | Max Average Score: -121.62",
      "\rEpisode 13500/20000 | Max Average Score: -121.62",
      "\rEpisode 13600/20000 | Max Average Score: -121.62",
      "\rEpisode 13700/20000 | Max Average Score: -121.62",
      "\rEpisode 13800/20000 | Max Average Score: -121.62",
      "\rEpisode 13900/20000 | Max Average Score: -121.62",
      "\rEpisode 14000/20000 | Max Average Score: -121.62",
      "\rEpisode 14100/20000 | Max Average Score: -121.62",
      "\rEpisode 14200/20000 | Max Average Score: -121.62",
      "\rEpisode 14300/20000 | Max Average Score: -121.62",
      "\rEpisode 14400/20000 | Max Average Score: -121.62",
      "\rEpisode 14500/20000 | Max Average Score: -121.62",
      "\rEpisode 14600/20000 | Max Average Score: -121.62",
      "\rEpisode 14700/20000 | Max Average Score: -121.62",
      "\rEpisode 14800/20000 | Max Average Score: -121.62",
      "\rEpisode 14900/20000 | Max Average Score: -121.62",
      "\rEpisode 15000/20000 | Max Average Score: -121.62",
      "\rEpisode 15100/20000 | Max Average Score: -121.62",
      "\rEpisode 15200/20000 | Max Average Score: -121.62",
      "\rEpisode 15300/20000 | Max Average Score: -121.62",
      "\rEpisode 15400/20000 | Max Average Score: -121.62",
      "\rEpisode 15500/20000 | Max Average Score: -121.62",
      "\rEpisode 15600/20000 | Max Average Score: -121.62",
      "\rEpisode 15700/20000 | Max Average Score: -121.62",
      "\rEpisode 15800/20000 | Max Average Score: -121.62",
      "\rEpisode 15900/20000 | Max Average Score: -121.62",
      "\rEpisode 16000/20000 | Max Average Score: -121.62",
      "\rEpisode 16100/20000 | Max Average Score: -121.62",
      "\rEpisode 16200/20000 | Max Average Score: -121.62",
      "\rEpisode 16300/20000 | Max Average Score: -121.62",
      "\rEpisode 16400/20000 | Max Average Score: -121.62",
      "\rEpisode 16500/20000 | Max Average Score: -121.62",
      "\rEpisode 16600/20000 | Max Average Score: -121.62",
      "\rEpisode 16700/20000 | Max Average Score: -121.62",
      "\rEpisode 16800/20000 | Max Average Score: -121.62",
      "\rEpisode 16900/20000 | Max Average Score: -121.62",
      "\rEpisode 17000/20000 | Max Average Score: -121.62",
      "\rEpisode 17100/20000 | Max Average Score: -121.62",
      "\rEpisode 17200/20000 | Max Average Score: -121.62",
      "\rEpisode 17300/20000 | Max Average Score: -121.62",
      "\rEpisode 17400/20000 | Max Average Score: -121.62",
      "\rEpisode 17500/20000 | Max Average Score: -121.62",
      "\rEpisode 17600/20000 | Max Average Score: -121.62",
      "\rEpisode 17700/20000 | Max Average Score: -121.62",
      "\rEpisode 17800/20000 | Max Average Score: -121.62",
      "\rEpisode 17900/20000 | Max Average Score: -121.62",
      "\rEpisode 18000/20000 | Max Average Score: -121.62",
      "\rEpisode 18100/20000 | Max Average Score: -121.62",
      "\rEpisode 18200/20000 | Max Average Score: -121.62",
      "\rEpisode 18300/20000 | Max Average Score: -121.62",
      "\rEpisode 18400/20000 | Max Average Score: -121.62",
      "\rEpisode 18500/20000 | Max Average Score: -121.62",
      "\rEpisode 18600/20000 | Max Average Score: -121.62",
      "\rEpisode 18700/20000 | Max Average Score: -121.62",
      "\rEpisode 18800/20000 | Max Average Score: -121.62",
      "\rEpisode 18900/20000 | Max Average Score: -121.62",
      "\rEpisode 19000/20000 | Max Average Score: -121.62",
      "\rEpisode 19100/20000 | Max Average Score: -121.62",
      "\rEpisode 19200/20000 | Max Average Score: -121.62",
      "\rEpisode 19300/20000 | Max Average Score: -121.62",
      "\rEpisode 19400/20000 | Max Average Score: -121.62",
      "\rEpisode 19500/20000 | Max Average Score: -121.62",
      "\rEpisode 19600/20000 | Max Average Score: -121.62",
      "\rEpisode 19700/20000 | Max Average Score: -121.62",
      "\rEpisode 19800/20000 | Max Average Score: -121.62",
      "\rEpisode 19900/20000 | Max Average Score: -121.62",
      "\rEpisode 20000/20000 | Max Average Score: -121.62"
     ],
     "output_type": "stream"
    }
   ],
   "source": [
    "def run(agent, env, num_episodes=20000, mode='train'):\n",
    "    \"\"\"Run agent in given reinforcement learning environment and return scores.\"\"\"\n",
    "    scores = []\n",
    "    max_avg_score = -np.inf\n",
    "    for i_episode in range(1, num_episodes+1):\n",
    "        # Initialize episode\n",
    "        state = env.reset()\n",
    "        action = agent.reset_episode(state)\n",
    "        total_reward = 0\n",
    "        done = False\n",
    "\n",
    "        # Roll out steps until done\n",
    "        while not done:\n",
    "            state, reward, done, info = env.step(action)\n",
    "            total_reward += reward\n",
    "            action = agent.act(state, reward, done, mode)\n",
    "\n",
    "        # Save final score\n",
    "        scores.append(total_reward)\n",
    "        \n",
    "        # Print episode stats\n",
    "        if mode == 'train':\n",
    "            if len(scores) > 100:\n",
    "                avg_score = np.mean(scores[-100:])\n",
    "                if avg_score > max_avg_score:\n",
    "                    max_avg_score = avg_score\n",
    "\n",
    "            if i_episode % 100 == 0:\n",
    "                print(\"\\rEpisode {}/{} | Max Average Score: {}\".format(i_episode, num_episodes, max_avg_score), end=\"\")\n",
    "                sys.stdout.flush()\n",
    "\n",
    "    return scores\n",
    "\n",
    "scores = run(q_agent, env)"
   ]
  },
  {
   "cell_type": "markdown",
   "metadata": {},
   "source": [
    "The best way to analyze if your agent was learning the task is to plot the scores. It should generally increase as the agent goes through more episodes."
   ]
  },
  {
   "cell_type": "code",
   "execution_count": 14,
   "metadata": {
    "pycharm": {
     "is_executing": false
    }
   },
   "outputs": [
    {
     "data": {
      "text/plain": "<Figure size 432x288 with 1 Axes>",
      "image/png": "[encoded data removed]"
     },
     "metadata": {
      "needs_background": "light"
     },
     "output_type": "display_data"
    }
   ],
   "source": [
    "# Plot scores obtained per episode\n",
    "plt.plot(scores); plt.title(\"Scores\");"
   ]
  },
  {
   "cell_type": "markdown",
   "metadata": {},
   "source": [
    "If the scores are noisy, it might be difficult to tell whether your agent is actually learning. To find the underlying trend, you may want to plot a rolling mean of the scores. Let's write a convenience function to plot both raw scores as well as a rolling mean."
   ]
  },
  {
   "cell_type": "code",
   "execution_count": 16,
   "metadata": {
    "pycharm": {
     "is_executing": false
    }
   },
   "outputs": [
    {
     "data": {
      "text/plain": "<Figure size 432x288 with 1 Axes>",
      "image/png": "[encoded data removed]"
     },
     "metadata": {
      "needs_background": "light"
     },
     "output_type": "display_data"
    }
   ],
   "source": [
    "def plot_scores(scores, rolling_window=500):\n",
    "    \"\"\"Plot scores and optional rolling mean using specified window.\"\"\"\n",
    "    plt.plot(scores); plt.title(\"Scores\")\n",
    "    rolling_mean = pd.Series(scores).rolling(rolling_window).mean()\n",
    "    plt.plot(rolling_mean)\n",
    "    return rolling_mean\n",
    "\n",
    "rolling_mean = plot_scores(scores)"
   ]
  },
  {
   "cell_type": "markdown",
   "metadata": {},
   "source": [
    "You should observe the mean episode scores go up over time. Next, you can freeze learning and run the agent in test mode to see how well it performs."
   ]
  },
  {
   "cell_type": "code",
   "execution_count": 17,
   "metadata": {
    "scrolled": true,
    "pycharm": {
     "is_executing": false
    }
   },
   "outputs": [
    {
     "name": "stdout",
     "text": [
      "[TEST] Completed 100 episodes with avg. score = -130.98\n"
     ],
     "output_type": "stream"
    },
    {
     "data": {
      "text/plain": "<Figure size 432x288 with 1 Axes>",
      "image/png": "[encoded data removed]"
     },
     "metadata": {
      "needs_background": "light"
     },
     "output_type": "display_data"
    }
   ],
   "source": [
    "# Run in test mode and analyze scores obtained\n",
    "test_scores = run(q_agent, env, num_episodes=100, mode='test')\n",
    "print(\"[TEST] Completed {} episodes with avg. score = {}\".format(len(test_scores), np.mean(test_scores)))\n",
    "_ = plot_scores(test_scores, rolling_window=10)"
   ]
  },
  {
   "cell_type": "markdown",
   "metadata": {},
   "source": [
    "It's also interesting to look at the final Q-table that is learned by the agent. Note that the Q-table is of size MxNxA, where (M, N) is the size of the state space, and A is the size of the action space. We are interested in the maximum Q-value for each state, and the corresponding (best) action associated with that value."
   ]
  },
  {
   "cell_type": "code",
   "execution_count": 18,
   "metadata": {
    "pycharm": {
     "is_executing": false
    }
   },
   "outputs": [
    {
     "data": {
      "text/plain": "<Figure size 720x720 with 2 Axes>",
      "image/png": "[encoded data removed]"
     },
     "metadata": {
      "needs_background": "light"
     },
     "output_type": "display_data"
    }
   ],
   "source": [
    "def plot_q_table(q_table):\n",
    "    \"\"\"Visualize max Q-value for each state and corresponding action.\"\"\"\n",
    "    q_image = np.max(q_table, axis=2)       # max Q-value for each state\n",
    "    q_actions = np.argmax(q_table, axis=2)  # best action for each state\n",
    "\n",
    "    fig, ax = plt.subplots(figsize=(10, 10))\n",
    "    cax = ax.imshow(q_image, cmap='jet')\n",
    "    cbar = fig.colorbar(cax)\n",
    "    for x in range(q_image.shape[0]):\n",
    "        for y in range(q_image.shape[1]):\n",
    "            ax.text(x, y, q_actions[x, y], color='white',\n",
    "                    horizontalalignment='center', verticalalignment='center')\n",
    "    ax.grid(False)\n",
    "    ax.set_title(\"Q-table, size: {}\".format(q_table.shape))\n",
    "    ax.set_xlabel('position')\n",
    "    ax.set_ylabel('velocity')\n",
    "\n",
    "\n",
    "plot_q_table(q_agent.q_table)"
   ]
  },
  {
   "cell_type": "markdown",
   "metadata": {
    "collapsed": true
   },
   "source": [
    "### 6. Modify the Grid\n",
    "\n",
    "Now it's your turn to play with the grid definition and see what gives you optimal results. Your agent's final performance is likely to get better if you use a finer grid, with more bins per dimension, at the cost of higher model complexity (more parameters to learn)."
   ]
  },
  {
   "cell_type": "code",
   "execution_count": 20,
   "metadata": {
    "pycharm": {
     "is_executing": false
    }
   },
   "outputs": [
    {
     "name": "stdout",
     "text": [
      "Environment: <TimeLimit<MountainCarEnv<MountainCar-v0>>>\nState space size: (20, 20)\nAction space size: 3\nQ table size: (20, 20, 3)\n"
     ],
     "output_type": "stream"
    }
   ],
   "source": [
    "state_grid_new = create_uniform_grid(env.observation_space.low, env.observation_space.high, bins=(20, 20))\n",
    "q_agent_new = QLearningAgent(env, state_grid_new)\n",
    "q_agent_new.scores = []  # initialize a list to store scores for this agent"
   ]
  },
  {
   "cell_type": "code",
   "execution_count": 21,
   "metadata": {
    "pycharm": {
     "is_executing": false
    }
   },
   "outputs": [
    {
     "name": "stdout",
     "text": [
      "\rEpisode 100/50000 | Max Average Score: -inf",
      "\rEpisode 200/50000 | Max Average Score: -200.0",
      "\rEpisode 300/50000 | Max Average Score: -200.0",
      "\rEpisode 400/50000 | Max Average Score: -200.0",
      "\rEpisode 500/50000 | Max Average Score: -200.0",
      "\rEpisode 600/50000 | Max Average Score: -200.0",
      "\rEpisode 700/50000 | Max Average Score: -200.0",
      "\rEpisode 800/50000 | Max Average Score: -200.0",
      "\rEpisode 900/50000 | Max Average Score: -200.0",
      "\rEpisode 1000/50000 | Max Average Score: -200.0",
      "\rEpisode 1100/50000 | Max Average Score: -200.0",
      "\rEpisode 1200/50000 | Max Average Score: -200.0",
      "\rEpisode 1300/50000 | Max Average Score: -200.0",
      "\rEpisode 1400/50000 | Max Average Score: -200.0",
      "\rEpisode 1500/50000 | Max Average Score: -200.0",
      "\rEpisode 1600/50000 | Max Average Score: -200.0",
      "\rEpisode 1700/50000 | Max Average Score: -200.0",
      "\rEpisode 1800/50000 | Max Average Score: -200.0",
      "\rEpisode 1900/50000 | Max Average Score: -200.0",
      "\rEpisode 2000/50000 | Max Average Score: -199.79",
      "\rEpisode 2100/50000 | Max Average Score: -199.79",
      "\rEpisode 2200/50000 | Max Average Score: -199.79",
      "\rEpisode 2300/50000 | Max Average Score: -199.79",
      "\rEpisode 2400/50000 | Max Average Score: -199.5",
      "\rEpisode 2500/50000 | Max Average Score: -199.5",
      "\rEpisode 2600/50000 | Max Average Score: -199.5",
      "\rEpisode 2700/50000 | Max Average Score: -198.77",
      "\rEpisode 2800/50000 | Max Average Score: -198.77",
      "\rEpisode 2900/50000 | Max Average Score: -198.77",
      "\rEpisode 3000/50000 | Max Average Score: -198.77",
      "\rEpisode 3100/50000 | Max Average Score: -198.28",
      "\rEpisode 3200/50000 | Max Average Score: -198.06",
      "\rEpisode 3300/50000 | Max Average Score: -198.06",
      "\rEpisode 3400/50000 | Max Average Score: -198.06",
      "\rEpisode 3500/50000 | Max Average Score: -191.89",
      "\rEpisode 3600/50000 | Max Average Score: -189.46",
      "\rEpisode 3700/50000 | Max Average Score: -189.46",
      "\rEpisode 3800/50000 | Max Average Score: -189.46",
      "\rEpisode 3900/50000 | Max Average Score: -189.46",
      "\rEpisode 4000/50000 | Max Average Score: -189.46",
      "\rEpisode 4100/50000 | Max Average Score: -187.78",
      "\rEpisode 4200/50000 | Max Average Score: -187.78",
      "\rEpisode 4300/50000 | Max Average Score: -187.78",
      "\rEpisode 4400/50000 | Max Average Score: -187.78",
      "\rEpisode 4500/50000 | Max Average Score: -187.78",
      "\rEpisode 4600/50000 | Max Average Score: -187.78",
      "\rEpisode 4700/50000 | Max Average Score: -187.78",
      "\rEpisode 4800/50000 | Max Average Score: -187.78",
      "\rEpisode 4900/50000 | Max Average Score: -187.78",
      "\rEpisode 5000/50000 | Max Average Score: -187.78",
      "\rEpisode 5100/50000 | Max Average Score: -187.78",
      "\rEpisode 5200/50000 | Max Average Score: -187.78",
      "\rEpisode 5300/50000 | Max Average Score: -187.78",
      "\rEpisode 5400/50000 | Max Average Score: -178.13",
      "\rEpisode 5500/50000 | Max Average Score: -175.88",
      "\rEpisode 5600/50000 | Max Average Score: -175.88",
      "\rEpisode 5700/50000 | Max Average Score: -175.88",
      "\rEpisode 5800/50000 | Max Average Score: -175.88",
      "\rEpisode 5900/50000 | Max Average Score: -175.88",
      "\rEpisode 6000/50000 | Max Average Score: -175.88",
      "\rEpisode 6100/50000 | Max Average Score: -175.88",
      "\rEpisode 6200/50000 | Max Average Score: -175.88",
      "\rEpisode 6300/50000 | Max Average Score: -174.07",
      "\rEpisode 6400/50000 | Max Average Score: -174.07",
      "\rEpisode 6500/50000 | Max Average Score: -174.07",
      "\rEpisode 6600/50000 | Max Average Score: -174.07",
      "\rEpisode 6700/50000 | Max Average Score: -174.07",
      "\rEpisode 6800/50000 | Max Average Score: -174.07",
      "\rEpisode 6900/50000 | Max Average Score: -174.07",
      "\rEpisode 7000/50000 | Max Average Score: -174.07",
      "\rEpisode 7100/50000 | Max Average Score: -174.07",
      "\rEpisode 7200/50000 | Max Average Score: -174.07",
      "\rEpisode 7300/50000 | Max Average Score: -174.07",
      "\rEpisode 7400/50000 | Max Average Score: -174.07",
      "\rEpisode 7500/50000 | Max Average Score: -163.06",
      "\rEpisode 7600/50000 | Max Average Score: -157.07",
      "\rEpisode 7700/50000 | Max Average Score: -156.34",
      "\rEpisode 7800/50000 | Max Average Score: -156.34",
      "\rEpisode 7900/50000 | Max Average Score: -156.34",
      "\rEpisode 8000/50000 | Max Average Score: -156.34",
      "\rEpisode 8100/50000 | Max Average Score: -156.34",
      "\rEpisode 8200/50000 | Max Average Score: -156.34",
      "\rEpisode 8300/50000 | Max Average Score: -156.34",
      "\rEpisode 8400/50000 | Max Average Score: -156.34",
      "\rEpisode 8500/50000 | Max Average Score: -156.34",
      "\rEpisode 8600/50000 | Max Average Score: -156.34",
      "\rEpisode 8700/50000 | Max Average Score: -156.34",
      "\rEpisode 8800/50000 | Max Average Score: -156.34",
      "\rEpisode 8900/50000 | Max Average Score: -156.34",
      "\rEpisode 9000/50000 | Max Average Score: -156.34",
      "\rEpisode 9100/50000 | Max Average Score: -156.34",
      "\rEpisode 9200/50000 | Max Average Score: -156.34",
      "\rEpisode 9300/50000 | Max Average Score: -156.34",
      "\rEpisode 9400/50000 | Max Average Score: -156.34",
      "\rEpisode 9500/50000 | Max Average Score: -156.34",
      "\rEpisode 9600/50000 | Max Average Score: -156.34",
      "\rEpisode 9700/50000 | Max Average Score: -156.34",
      "\rEpisode 9800/50000 | Max Average Score: -156.34",
      "\rEpisode 9900/50000 | Max Average Score: -156.34",
      "\rEpisode 10000/50000 | Max Average Score: -156.34",
      "\rEpisode 10100/50000 | Max Average Score: -156.34",
      "\rEpisode 10200/50000 | Max Average Score: -156.34",
      "\rEpisode 10300/50000 | Max Average Score: -156.34",
      "\rEpisode 10400/50000 | Max Average Score: -156.34",
      "\rEpisode 10500/50000 | Max Average Score: -156.34",
      "\rEpisode 10600/50000 | Max Average Score: -156.34",
      "\rEpisode 10700/50000 | Max Average Score: -156.34",
      "\rEpisode 10800/50000 | Max Average Score: -156.34",
      "\rEpisode 10900/50000 | Max Average Score: -156.34",
      "\rEpisode 11000/50000 | Max Average Score: -156.34",
      "\rEpisode 11100/50000 | Max Average Score: -156.34",
      "\rEpisode 11200/50000 | Max Average Score: -156.34",
      "\rEpisode 11300/50000 | Max Average Score: -156.34",
      "\rEpisode 11400/50000 | Max Average Score: -156.34",
      "\rEpisode 11500/50000 | Max Average Score: -156.34",
      "\rEpisode 11600/50000 | Max Average Score: -156.34",
      "\rEpisode 11700/50000 | Max Average Score: -156.34",
      "\rEpisode 11800/50000 | Max Average Score: -156.34",
      "\rEpisode 11900/50000 | Max Average Score: -156.34",
      "\rEpisode 12000/50000 | Max Average Score: -156.34",
      "\rEpisode 12100/50000 | Max Average Score: -156.34",
      "\rEpisode 12200/50000 | Max Average Score: -156.34",
      "\rEpisode 12300/50000 | Max Average Score: -145.33",
      "\rEpisode 12400/50000 | Max Average Score: -136.36",
      "\rEpisode 12500/50000 | Max Average Score: -136.36",
      "\rEpisode 12600/50000 | Max Average Score: -136.36",
      "\rEpisode 12700/50000 | Max Average Score: -136.36",
      "\rEpisode 12800/50000 | Max Average Score: -136.36",
      "\rEpisode 12900/50000 | Max Average Score: -136.36",
      "\rEpisode 13000/50000 | Max Average Score: -136.36",
      "\rEpisode 13100/50000 | Max Average Score: -136.36",
      "\rEpisode 13200/50000 | Max Average Score: -136.36",
      "\rEpisode 13300/50000 | Max Average Score: -136.36",
      "\rEpisode 13400/50000 | Max Average Score: -136.36",
      "\rEpisode 13500/50000 | Max Average Score: -136.36",
      "\rEpisode 13600/50000 | Max Average Score: -136.36",
      "\rEpisode 13700/50000 | Max Average Score: -136.36",
      "\rEpisode 13800/50000 | Max Average Score: -136.36",
      "\rEpisode 13900/50000 | Max Average Score: -136.36",
      "\rEpisode 14000/50000 | Max Average Score: -136.36",
      "\rEpisode 14100/50000 | Max Average Score: -136.36",
      "\rEpisode 14200/50000 | Max Average Score: -136.36",
      "\rEpisode 14300/50000 | Max Average Score: -136.36",
      "\rEpisode 14400/50000 | Max Average Score: -136.36",
      "\rEpisode 14500/50000 | Max Average Score: -136.36",
      "\rEpisode 14600/50000 | Max Average Score: -136.36",
      "\rEpisode 14700/50000 | Max Average Score: -136.36",
      "\rEpisode 14800/50000 | Max Average Score: -136.36",
      "\rEpisode 14900/50000 | Max Average Score: -136.36",
      "\rEpisode 15000/50000 | Max Average Score: -136.36",
      "\rEpisode 15100/50000 | Max Average Score: -136.36",
      "\rEpisode 15200/50000 | Max Average Score: -136.36",
      "\rEpisode 15300/50000 | Max Average Score: -136.36",
      "\rEpisode 15400/50000 | Max Average Score: -136.36",
      "\rEpisode 15500/50000 | Max Average Score: -136.36",
      "\rEpisode 15600/50000 | Max Average Score: -136.36",
      "\rEpisode 15700/50000 | Max Average Score: -136.36",
      "\rEpisode 15800/50000 | Max Average Score: -136.36",
      "\rEpisode 15900/50000 | Max Average Score: -136.36",
      "\rEpisode 16000/50000 | Max Average Score: -136.36",
      "\rEpisode 16100/50000 | Max Average Score: -136.36",
      "\rEpisode 16200/50000 | Max Average Score: -136.36",
      "\rEpisode 16300/50000 | Max Average Score: -136.36",
      "\rEpisode 16400/50000 | Max Average Score: -136.36",
      "\rEpisode 16500/50000 | Max Average Score: -136.36",
      "\rEpisode 16600/50000 | Max Average Score: -135.63",
      "\rEpisode 16700/50000 | Max Average Score: -135.63",
      "\rEpisode 16800/50000 | Max Average Score: -135.63",
      "\rEpisode 16900/50000 | Max Average Score: -135.63",
      "\rEpisode 17000/50000 | Max Average Score: -134.81",
      "\rEpisode 17100/50000 | Max Average Score: -134.81",
      "\rEpisode 17200/50000 | Max Average Score: -134.81",
      "\rEpisode 17300/50000 | Max Average Score: -134.81",
      "\rEpisode 17400/50000 | Max Average Score: -134.81",
      "\rEpisode 17500/50000 | Max Average Score: -134.81",
      "\rEpisode 17600/50000 | Max Average Score: -134.81",
      "\rEpisode 17700/50000 | Max Average Score: -134.81",
      "\rEpisode 17800/50000 | Max Average Score: -134.81",
      "\rEpisode 17900/50000 | Max Average Score: -134.81",
      "\rEpisode 18000/50000 | Max Average Score: -134.81",
      "\rEpisode 18100/50000 | Max Average Score: -134.81",
      "\rEpisode 18200/50000 | Max Average Score: -134.81",
      "\rEpisode 18300/50000 | Max Average Score: -134.81",
      "\rEpisode 18400/50000 | Max Average Score: -134.81",
      "\rEpisode 18500/50000 | Max Average Score: -134.81",
      "\rEpisode 18600/50000 | Max Average Score: -134.81",
      "\rEpisode 18700/50000 | Max Average Score: -134.81",
      "\rEpisode 18800/50000 | Max Average Score: -134.81",
      "\rEpisode 18900/50000 | Max Average Score: -134.81",
      "\rEpisode 19000/50000 | Max Average Score: -134.81",
      "\rEpisode 19100/50000 | Max Average Score: -134.81",
      "\rEpisode 19200/50000 | Max Average Score: -134.81",
      "\rEpisode 19300/50000 | Max Average Score: -134.81",
      "\rEpisode 19400/50000 | Max Average Score: -134.81",
      "\rEpisode 19500/50000 | Max Average Score: -134.81",
      "\rEpisode 19600/50000 | Max Average Score: -134.81",
      "\rEpisode 19700/50000 | Max Average Score: -134.81",
      "\rEpisode 19800/50000 | Max Average Score: -134.81",
      "\rEpisode 19900/50000 | Max Average Score: -134.81",
      "\rEpisode 20000/50000 | Max Average Score: -134.81",
      "\rEpisode 20100/50000 | Max Average Score: -134.81",
      "\rEpisode 20200/50000 | Max Average Score: -134.81",
      "\rEpisode 20300/50000 | Max Average Score: -134.81",
      "\rEpisode 20400/50000 | Max Average Score: -134.81",
      "\rEpisode 20500/50000 | Max Average Score: -134.81",
      "\rEpisode 20600/50000 | Max Average Score: -134.81",
      "\rEpisode 20700/50000 | Max Average Score: -134.81",
      "\rEpisode 20800/50000 | Max Average Score: -134.81",
      "\rEpisode 20900/50000 | Max Average Score: -134.81",
      "\rEpisode 21000/50000 | Max Average Score: -134.81",
      "\rEpisode 21100/50000 | Max Average Score: -134.81",
      "\rEpisode 21200/50000 | Max Average Score: -134.81",
      "\rEpisode 21300/50000 | Max Average Score: -134.81",
      "\rEpisode 21400/50000 | Max Average Score: -134.81",
      "\rEpisode 21500/50000 | Max Average Score: -134.81",
      "\rEpisode 21600/50000 | Max Average Score: -134.81",
      "\rEpisode 21700/50000 | Max Average Score: -134.81",
      "\rEpisode 21800/50000 | Max Average Score: -134.81",
      "\rEpisode 21900/50000 | Max Average Score: -134.81",
      "\rEpisode 22000/50000 | Max Average Score: -134.81",
      "\rEpisode 22100/50000 | Max Average Score: -134.81",
      "\rEpisode 22200/50000 | Max Average Score: -134.81",
      "\rEpisode 22300/50000 | Max Average Score: -134.81",
      "\rEpisode 22400/50000 | Max Average Score: -134.81",
      "\rEpisode 22500/50000 | Max Average Score: -134.81",
      "\rEpisode 22600/50000 | Max Average Score: -134.81",
      "\rEpisode 22700/50000 | Max Average Score: -134.81",
      "\rEpisode 22800/50000 | Max Average Score: -134.81",
      "\rEpisode 22900/50000 | Max Average Score: -134.81",
      "\rEpisode 23000/50000 | Max Average Score: -134.81",
      "\rEpisode 23100/50000 | Max Average Score: -134.81",
      "\rEpisode 23200/50000 | Max Average Score: -134.81",
      "\rEpisode 23300/50000 | Max Average Score: -129.55",
      "\rEpisode 23400/50000 | Max Average Score: -129.48",
      "\rEpisode 23500/50000 | Max Average Score: -129.48",
      "\rEpisode 23600/50000 | Max Average Score: -129.48",
      "\rEpisode 23700/50000 | Max Average Score: -129.48",
      "\rEpisode 23800/50000 | Max Average Score: -129.48",
      "\rEpisode 23900/50000 | Max Average Score: -129.48",
      "\rEpisode 24000/50000 | Max Average Score: -129.48",
      "\rEpisode 24100/50000 | Max Average Score: -129.48",
      "\rEpisode 24200/50000 | Max Average Score: -129.48",
      "\rEpisode 24300/50000 | Max Average Score: -129.48",
      "\rEpisode 24400/50000 | Max Average Score: -129.48",
      "\rEpisode 24500/50000 | Max Average Score: -129.48",
      "\rEpisode 24600/50000 | Max Average Score: -129.48",
      "\rEpisode 24700/50000 | Max Average Score: -129.48",
      "\rEpisode 24800/50000 | Max Average Score: -129.48",
      "\rEpisode 24900/50000 | Max Average Score: -129.48",
      "\rEpisode 25000/50000 | Max Average Score: -129.48",
      "\rEpisode 25100/50000 | Max Average Score: -129.48",
      "\rEpisode 25200/50000 | Max Average Score: -129.48",
      "\rEpisode 25300/50000 | Max Average Score: -129.48",
      "\rEpisode 25400/50000 | Max Average Score: -129.48",
      "\rEpisode 25500/50000 | Max Average Score: -129.48",
      "\rEpisode 25600/50000 | Max Average Score: -129.48",
      "\rEpisode 25700/50000 | Max Average Score: -129.48",
      "\rEpisode 25800/50000 | Max Average Score: -129.48",
      "\rEpisode 25900/50000 | Max Average Score: -129.48",
      "\rEpisode 26000/50000 | Max Average Score: -129.48",
      "\rEpisode 26100/50000 | Max Average Score: -129.48",
      "\rEpisode 26200/50000 | Max Average Score: -129.48",
      "\rEpisode 26300/50000 | Max Average Score: -129.48",
      "\rEpisode 26400/50000 | Max Average Score: -129.48",
      "\rEpisode 26500/50000 | Max Average Score: -129.48",
      "\rEpisode 26600/50000 | Max Average Score: -129.48",
      "\rEpisode 26700/50000 | Max Average Score: -129.48",
      "\rEpisode 26800/50000 | Max Average Score: -129.48",
      "\rEpisode 26900/50000 | Max Average Score: -129.48",
      "\rEpisode 27000/50000 | Max Average Score: -129.48",
      "\rEpisode 27100/50000 | Max Average Score: -129.48",
      "\rEpisode 27200/50000 | Max Average Score: -129.48",
      "\rEpisode 27300/50000 | Max Average Score: -129.48",
      "\rEpisode 27400/50000 | Max Average Score: -129.48",
      "\rEpisode 27500/50000 | Max Average Score: -129.48",
      "\rEpisode 27600/50000 | Max Average Score: -129.48",
      "\rEpisode 27700/50000 | Max Average Score: -129.48",
      "\rEpisode 27800/50000 | Max Average Score: -129.48",
      "\rEpisode 27900/50000 | Max Average Score: -129.48",
      "\rEpisode 28000/50000 | Max Average Score: -129.48",
      "\rEpisode 28100/50000 | Max Average Score: -129.48",
      "\rEpisode 28200/50000 | Max Average Score: -129.48",
      "\rEpisode 28300/50000 | Max Average Score: -129.48",
      "\rEpisode 28400/50000 | Max Average Score: -129.48",
      "\rEpisode 28500/50000 | Max Average Score: -129.48",
      "\rEpisode 28600/50000 | Max Average Score: -129.48",
      "\rEpisode 28700/50000 | Max Average Score: -129.48",
      "\rEpisode 28800/50000 | Max Average Score: -129.48",
      "\rEpisode 28900/50000 | Max Average Score: -129.48",
      "\rEpisode 29000/50000 | Max Average Score: -129.48",
      "\rEpisode 29100/50000 | Max Average Score: -129.48",
      "\rEpisode 29200/50000 | Max Average Score: -129.48",
      "\rEpisode 29300/50000 | Max Average Score: -129.48",
      "\rEpisode 29400/50000 | Max Average Score: -129.48",
      "\rEpisode 29500/50000 | Max Average Score: -129.48",
      "\rEpisode 29600/50000 | Max Average Score: -129.48",
      "\rEpisode 29700/50000 | Max Average Score: -129.48",
      "\rEpisode 29800/50000 | Max Average Score: -129.48",
      "\rEpisode 29900/50000 | Max Average Score: -129.48",
      "\rEpisode 30000/50000 | Max Average Score: -129.48",
      "\rEpisode 30100/50000 | Max Average Score: -129.48",
      "\rEpisode 30200/50000 | Max Average Score: -129.48",
      "\rEpisode 30300/50000 | Max Average Score: -129.48",
      "\rEpisode 30400/50000 | Max Average Score: -129.48",
      "\rEpisode 30500/50000 | Max Average Score: -129.48",
      "\rEpisode 30600/50000 | Max Average Score: -129.48",
      "\rEpisode 30700/50000 | Max Average Score: -129.48",
      "\rEpisode 30800/50000 | Max Average Score: -129.48",
      "\rEpisode 30900/50000 | Max Average Score: -129.48",
      "\rEpisode 31000/50000 | Max Average Score: -129.48",
      "\rEpisode 31100/50000 | Max Average Score: -129.48",
      "\rEpisode 31200/50000 | Max Average Score: -129.48",
      "\rEpisode 31300/50000 | Max Average Score: -129.48",
      "\rEpisode 31400/50000 | Max Average Score: -129.48",
      "\rEpisode 31500/50000 | Max Average Score: -129.48",
      "\rEpisode 31600/50000 | Max Average Score: -129.48",
      "\rEpisode 31700/50000 | Max Average Score: -129.48",
      "\rEpisode 31800/50000 | Max Average Score: -129.48",
      "\rEpisode 31900/50000 | Max Average Score: -129.48",
      "\rEpisode 32000/50000 | Max Average Score: -129.48",
      "\rEpisode 32100/50000 | Max Average Score: -129.48",
      "\rEpisode 32200/50000 | Max Average Score: -129.48",
      "\rEpisode 32300/50000 | Max Average Score: -128.42",
      "\rEpisode 32400/50000 | Max Average Score: -128.42",
      "\rEpisode 32500/50000 | Max Average Score: -128.42",
      "\rEpisode 32600/50000 | Max Average Score: -128.42",
      "\rEpisode 32700/50000 | Max Average Score: -128.42",
      "\rEpisode 32800/50000 | Max Average Score: -128.42",
      "\rEpisode 32900/50000 | Max Average Score: -128.42",
      "\rEpisode 33000/50000 | Max Average Score: -128.42",
      "\rEpisode 33100/50000 | Max Average Score: -128.42",
      "\rEpisode 33200/50000 | Max Average Score: -128.42",
      "\rEpisode 33300/50000 | Max Average Score: -128.42",
      "\rEpisode 33400/50000 | Max Average Score: -128.42",
      "\rEpisode 33500/50000 | Max Average Score: -128.42",
      "\rEpisode 33600/50000 | Max Average Score: -128.42",
      "\rEpisode 33700/50000 | Max Average Score: -128.42",
      "\rEpisode 33800/50000 | Max Average Score: -128.42",
      "\rEpisode 33900/50000 | Max Average Score: -128.42",
      "\rEpisode 34000/50000 | Max Average Score: -128.42",
      "\rEpisode 34100/50000 | Max Average Score: -128.42",
      "\rEpisode 34200/50000 | Max Average Score: -128.42",
      "\rEpisode 34300/50000 | Max Average Score: -128.34",
      "\rEpisode 34400/50000 | Max Average Score: -128.34",
      "\rEpisode 34500/50000 | Max Average Score: -128.34",
      "\rEpisode 34600/50000 | Max Average Score: -128.34",
      "\rEpisode 34700/50000 | Max Average Score: -128.34",
      "\rEpisode 34800/50000 | Max Average Score: -128.34",
      "\rEpisode 34900/50000 | Max Average Score: -128.34",
      "\rEpisode 35000/50000 | Max Average Score: -128.34",
      "\rEpisode 35100/50000 | Max Average Score: -128.34",
      "\rEpisode 35200/50000 | Max Average Score: -128.34",
      "\rEpisode 35300/50000 | Max Average Score: -128.34",
      "\rEpisode 35400/50000 | Max Average Score: -128.34",
      "\rEpisode 35500/50000 | Max Average Score: -128.34",
      "\rEpisode 35600/50000 | Max Average Score: -128.34",
      "\rEpisode 35700/50000 | Max Average Score: -128.34",
      "\rEpisode 35800/50000 | Max Average Score: -128.34",
      "\rEpisode 35900/50000 | Max Average Score: -128.34",
      "\rEpisode 36000/50000 | Max Average Score: -128.34",
      "\rEpisode 36100/50000 | Max Average Score: -128.34",
      "\rEpisode 36200/50000 | Max Average Score: -128.34",
      "\rEpisode 36300/50000 | Max Average Score: -126.99",
      "\rEpisode 36400/50000 | Max Average Score: -126.32",
      "\rEpisode 36500/50000 | Max Average Score: -126.32",
      "\rEpisode 36600/50000 | Max Average Score: -126.32",
      "\rEpisode 36700/50000 | Max Average Score: -126.32",
      "\rEpisode 36800/50000 | Max Average Score: -126.32",
      "\rEpisode 36900/50000 | Max Average Score: -126.32",
      "\rEpisode 37000/50000 | Max Average Score: -126.32",
      "\rEpisode 37100/50000 | Max Average Score: -126.32",
      "\rEpisode 37200/50000 | Max Average Score: -126.32",
      "\rEpisode 37300/50000 | Max Average Score: -126.32",
      "\rEpisode 37400/50000 | Max Average Score: -126.32",
      "\rEpisode 37500/50000 | Max Average Score: -126.32",
      "\rEpisode 37600/50000 | Max Average Score: -126.32",
      "\rEpisode 37700/50000 | Max Average Score: -126.32",
      "\rEpisode 37800/50000 | Max Average Score: -126.32",
      "\rEpisode 37900/50000 | Max Average Score: -126.32",
      "\rEpisode 38000/50000 | Max Average Score: -126.32",
      "\rEpisode 38100/50000 | Max Average Score: -126.32",
      "\rEpisode 38200/50000 | Max Average Score: -126.32",
      "\rEpisode 38300/50000 | Max Average Score: -126.32",
      "\rEpisode 38400/50000 | Max Average Score: -126.32",
      "\rEpisode 38500/50000 | Max Average Score: -126.32",
      "\rEpisode 38600/50000 | Max Average Score: -126.32",
      "\rEpisode 38700/50000 | Max Average Score: -126.32",
      "\rEpisode 38800/50000 | Max Average Score: -126.32",
      "\rEpisode 38900/50000 | Max Average Score: -126.32",
      "\rEpisode 39000/50000 | Max Average Score: -126.32",
      "\rEpisode 39100/50000 | Max Average Score: -126.32",
      "\rEpisode 39200/50000 | Max Average Score: -126.32",
      "\rEpisode 39300/50000 | Max Average Score: -126.32",
      "\rEpisode 39400/50000 | Max Average Score: -126.32",
      "\rEpisode 39500/50000 | Max Average Score: -126.32",
      "\rEpisode 39600/50000 | Max Average Score: -126.32",
      "\rEpisode 39700/50000 | Max Average Score: -126.32",
      "\rEpisode 39800/50000 | Max Average Score: -126.32",
      "\rEpisode 39900/50000 | Max Average Score: -126.32",
      "\rEpisode 40000/50000 | Max Average Score: -126.32",
      "\rEpisode 40100/50000 | Max Average Score: -126.32",
      "\rEpisode 40200/50000 | Max Average Score: -126.32",
      "\rEpisode 40300/50000 | Max Average Score: -126.32",
      "\rEpisode 40400/50000 | Max Average Score: -126.32",
      "\rEpisode 40500/50000 | Max Average Score: -126.32",
      "\rEpisode 40600/50000 | Max Average Score: -126.32",
      "\rEpisode 40700/50000 | Max Average Score: -126.32",
      "\rEpisode 40800/50000 | Max Average Score: -126.32",
      "\rEpisode 40900/50000 | Max Average Score: -126.32",
      "\rEpisode 41000/50000 | Max Average Score: -126.32",
      "\rEpisode 41100/50000 | Max Average Score: -126.32",
      "\rEpisode 41200/50000 | Max Average Score: -126.32",
      "\rEpisode 41300/50000 | Max Average Score: -126.32",
      "\rEpisode 41400/50000 | Max Average Score: -126.32",
      "\rEpisode 41500/50000 | Max Average Score: -126.32",
      "\rEpisode 41600/50000 | Max Average Score: -122.95",
      "\rEpisode 41700/50000 | Max Average Score: -113.54",
      "\rEpisode 41800/50000 | Max Average Score: -112.42",
      "\rEpisode 41900/50000 | Max Average Score: -111.3",
      "\rEpisode 42000/50000 | Max Average Score: -111.05",
      "\rEpisode 42100/50000 | Max Average Score: -111.05",
      "\rEpisode 42200/50000 | Max Average Score: -111.05",
      "\rEpisode 42300/50000 | Max Average Score: -111.05",
      "\rEpisode 42400/50000 | Max Average Score: -111.05",
      "\rEpisode 42500/50000 | Max Average Score: -111.05",
      "\rEpisode 42600/50000 | Max Average Score: -111.05",
      "\rEpisode 42700/50000 | Max Average Score: -111.05",
      "\rEpisode 42800/50000 | Max Average Score: -111.05",
      "\rEpisode 42900/50000 | Max Average Score: -111.05",
      "\rEpisode 43000/50000 | Max Average Score: -111.05",
      "\rEpisode 43100/50000 | Max Average Score: -111.05",
      "\rEpisode 43200/50000 | Max Average Score: -111.05",
      "\rEpisode 43300/50000 | Max Average Score: -111.05",
      "\rEpisode 43400/50000 | Max Average Score: -111.05",
      "\rEpisode 43500/50000 | Max Average Score: -111.05",
      "\rEpisode 43600/50000 | Max Average Score: -111.05",
      "\rEpisode 43700/50000 | Max Average Score: -111.05",
      "\rEpisode 43800/50000 | Max Average Score: -111.05",
      "\rEpisode 43900/50000 | Max Average Score: -111.05",
      "\rEpisode 44000/50000 | Max Average Score: -111.05",
      "\rEpisode 44100/50000 | Max Average Score: -111.05",
      "\rEpisode 44200/50000 | Max Average Score: -111.05",
      "\rEpisode 44300/50000 | Max Average Score: -111.05",
      "\rEpisode 44400/50000 | Max Average Score: -111.05",
      "\rEpisode 44500/50000 | Max Average Score: -111.05",
      "\rEpisode 44600/50000 | Max Average Score: -111.05",
      "\rEpisode 44700/50000 | Max Average Score: -111.05",
      "\rEpisode 44800/50000 | Max Average Score: -111.05",
      "\rEpisode 44900/50000 | Max Average Score: -111.05",
      "\rEpisode 45000/50000 | Max Average Score: -111.05",
      "\rEpisode 45100/50000 | Max Average Score: -111.05",
      "\rEpisode 45200/50000 | Max Average Score: -111.05",
      "\rEpisode 45300/50000 | Max Average Score: -111.05",
      "\rEpisode 45400/50000 | Max Average Score: -111.05",
      "\rEpisode 45500/50000 | Max Average Score: -111.05",
      "\rEpisode 45600/50000 | Max Average Score: -111.05",
      "\rEpisode 45700/50000 | Max Average Score: -111.05",
      "\rEpisode 45800/50000 | Max Average Score: -111.05",
      "\rEpisode 45900/50000 | Max Average Score: -111.05",
      "\rEpisode 46000/50000 | Max Average Score: -111.05",
      "\rEpisode 46100/50000 | Max Average Score: -111.05",
      "\rEpisode 46200/50000 | Max Average Score: -111.05",
      "\rEpisode 46300/50000 | Max Average Score: -111.05",
      "\rEpisode 46400/50000 | Max Average Score: -111.05",
      "\rEpisode 46500/50000 | Max Average Score: -111.05",
      "\rEpisode 46600/50000 | Max Average Score: -111.05",
      "\rEpisode 46700/50000 | Max Average Score: -111.05",
      "\rEpisode 46800/50000 | Max Average Score: -111.05",
      "\rEpisode 46900/50000 | Max Average Score: -111.05",
      "\rEpisode 47000/50000 | Max Average Score: -111.05",
      "\rEpisode 47100/50000 | Max Average Score: -111.05",
      "\rEpisode 47200/50000 | Max Average Score: -111.05",
      "\rEpisode 47300/50000 | Max Average Score: -111.05",
      "\rEpisode 47400/50000 | Max Average Score: -111.05",
      "\rEpisode 47500/50000 | Max Average Score: -111.05",
      "\rEpisode 47600/50000 | Max Average Score: -111.05",
      "\rEpisode 47700/50000 | Max Average Score: -111.05",
      "\rEpisode 47800/50000 | Max Average Score: -111.05",
      "\rEpisode 47900/50000 | Max Average Score: -111.05",
      "\rEpisode 48000/50000 | Max Average Score: -111.05",
      "\rEpisode 48100/50000 | Max Average Score: -111.05",
      "\rEpisode 48200/50000 | Max Average Score: -111.05",
      "\rEpisode 48300/50000 | Max Average Score: -111.05",
      "\rEpisode 48400/50000 | Max Average Score: -111.05",
      "\rEpisode 48500/50000 | Max Average Score: -111.05",
      "\rEpisode 48600/50000 | Max Average Score: -111.05",
      "\rEpisode 48700/50000 | Max Average Score: -111.05",
      "\rEpisode 48800/50000 | Max Average Score: -111.05",
      "\rEpisode 48900/50000 | Max Average Score: -111.05",
      "\rEpisode 49000/50000 | Max Average Score: -111.05",
      "\rEpisode 49100/50000 | Max Average Score: -111.05",
      "\rEpisode 49200/50000 | Max Average Score: -111.05",
      "\rEpisode 49300/50000 | Max Average Score: -111.05",
      "\rEpisode 49400/50000 | Max Average Score: -111.05",
      "\rEpisode 49500/50000 | Max Average Score: -110.66",
      "\rEpisode 49600/50000 | Max Average Score: -110.65",
      "\rEpisode 49700/50000 | Max Average Score: -110.65",
      "\rEpisode 49800/50000 | Max Average Score: -110.27",
      "\rEpisode 49900/50000 | Max Average Score: -110.27",
      "\rEpisode 50000/50000 | Max Average Score: -109.87"
     ],
     "output_type": "stream"
    },
    {
     "data": {
      "text/plain": "<Figure size 432x288 with 1 Axes>",
      "image/png": "[encoded data removed]"
     },
     "metadata": {
      "needs_background": "light"
     },
     "output_type": "display_data"
    }
   ],
   "source": [
    "# Train it over a desired number of episodes and analyze scores\n",
    "# Note: This cell can be run multiple times, and scores will get accumulated\n",
    "q_agent_new.scores += run(q_agent_new, env, num_episodes=50000)  # accumulate scores\n",
    "rolling_mean_new = plot_scores(q_agent_new.scores)"
   ]
  },
  {
   "cell_type": "code",
   "execution_count": 22,
   "metadata": {
    "pycharm": {
     "is_executing": false
    }
   },
   "outputs": [
    {
     "name": "stdout",
     "text": [
      "[TEST] Completed 100 episodes with avg. score = -107.66\n"
     ],
     "output_type": "stream"
    },
    {
     "data": {
      "text/plain": "<Figure size 432x288 with 1 Axes>",
      "image/png": "[encoded data removed]"
     },
     "metadata": {
      "needs_background": "light"
     },
     "output_type": "display_data"
    }
   ],
   "source": [
    "# Run in test mode and analyze scores obtained\n",
    "test_scores = run(q_agent_new, env, num_episodes=100, mode='test')\n",
    "print(\"[TEST] Completed {} episodes with avg. score = {}\".format(len(test_scores), np.mean(test_scores)))\n",
    "_ = plot_scores(test_scores)"
   ]
  },
  {
   "cell_type": "code",
   "execution_count": null,
   "metadata": {},
   "outputs": [],
   "source": [
    "# Visualize the learned Q-table\n",
    "plot_q_table(q_agent_new.q_table)"
   ]
  },
  {
   "cell_type": "markdown",
   "metadata": {},
   "source": [
    "### 7. Watch a Smart Agent"
   ]
  },
  {
   "cell_type": "code",
   "execution_count": 23,
   "metadata": {
    "pycharm": {
     "is_executing": false
    }
   },
   "outputs": [
    {
     "name": "stdout",
     "text": [
      "Final score: -110.0\n"
     ],
     "output_type": "stream"
    }
   ],
   "source": [
    "state = env.reset()\n",
    "score = 0\n",
    "for t in range(200):\n",
    "    action = q_agent_new.act(state, mode='test')\n",
    "    env.render()\n",
    "    state, reward, done, _ = env.step(action)\n",
    "    score += reward\n",
    "    if done:\n",
    "        break \n",
    "print('Final score:', score)\n",
    "env.close()"
   ]
  }
 ],
 "metadata": {
  "kernelspec": {
   "name": "pycharm-9ece6098",
   "language": "python",
   "display_name": "PyCharm (reinforcement-learning-experiments)"
  },
  "language_info": {
   "codemirror_mode": {
    "name": "ipython",
    "version": 3
   },
   "file_extension": ".py",
   "mimetype": "text/x-python",
   "name": "python",
   "nbconvert_exporter": "python",
   "pygments_lexer": "ipython3",
   "version": "3.6.4"
  },
  "pycharm": {
   "stem_cell": {
    "cell_type": "raw",
    "source": [],
    "metadata": {
     "collapsed": false
    }
   }
  }
 },
 "nbformat": 4,
 "nbformat_minor": 2
}